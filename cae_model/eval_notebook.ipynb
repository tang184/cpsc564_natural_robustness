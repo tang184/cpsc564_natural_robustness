{
 "cells": [
  {
   "cell_type": "code",
   "execution_count": 6,
   "metadata": {},
   "outputs": [],
   "source": [
    "import subprocess\n",
    "import argparse\n",
    "import os\n",
    "from os.path import join\n",
    "import time\n",
    "import datetime\n",
    "\n",
    "import sys\n",
    "sys.path.append('src/')\n",
    "from registry import registry\n",
    "registry.load_full_registry()"
   ]
  },
  {
   "cell_type": "code",
   "execution_count": 7,
   "metadata": {},
   "outputs": [],
   "source": [
    "class Arg:\n",
    "    models = ['cae_model']\n",
    "    eval_settings = ['val', 'ytbb-robust']\n",
    "    gpus = ['0', '1']\n",
    "    logdir = './outputs/'\n",
    "    db = None\n",
    "\n",
    "args = Arg()"
   ]
  },
  {
   "cell_type": "code",
   "execution_count": null,
   "metadata": {},
   "outputs": [],
   "source": []
  },
  {
   "cell_type": "code",
   "execution_count": 8,
   "metadata": {},
   "outputs": [
    {
     "name": "stdout",
     "output_type": "stream",
     "text": [
      "Logging to ./outputs/2021-05-01_21:15:59\n",
      "CUDA_VISIBLE_DEVICES=0,1 /home/jtang/anaconda3/bin/python src/inference.py --model=cae_model --eval-setting=val  --logdir=./outputs/2021-05-01_21:15:59\n",
      "/home/jtang/anaconda3/lib/python3.8/site-packages/torchvision/transforms/transforms.py:257: UserWarning: Argument interpolation should be of type InterpolationMode instead of int. Please, use InterpolationMode enum.\n",
      "  warnings.warn(\n",
      "/home/jtang/anaconda3/lib/python3.8/site-packages/torchvision/transforms/transforms.py:257: UserWarning: Argument interpolation should be of type InterpolationMode instead of int. Please, use InterpolationMode enum.\n",
      "  warnings.warn(\n",
      "Validating: 100%|█████████████████████████████| 391/391 [02:27<00:00,  2.64it/s]\n",
      "************************************\n",
      "RESULT cae_model on val - {'top1': 40.3900032043457, 'top5': 65.552001953125}\n",
      "************************************\n",
      "Logging to ./outputs/2021-05-01_21:18:41\n",
      "CUDA_VISIBLE_DEVICES=0,1 /home/jtang/anaconda3/bin/python src/inference.py --model=cae_model --eval-setting=ytbb-robust  --logdir=./outputs/2021-05-01_21:18:41\n",
      "/home/jtang/anaconda3/lib/python3.8/site-packages/torchvision/transforms/transforms.py:257: UserWarning: Argument interpolation should be of type InterpolationMode instead of int. Please, use InterpolationMode enum.\n",
      "  warnings.warn(\n",
      "/home/jtang/anaconda3/lib/python3.8/site-packages/torchvision/transforms/transforms.py:257: UserWarning: Argument interpolation should be of type InterpolationMode instead of int. Please, use InterpolationMode enum.\n",
      "  warnings.warn(\n",
      "Validating: 100%|█████████████████████████████| 405/405 [02:16<00:00,  2.96it/s]\n",
      "************************************\n",
      "RESULT cae_model on ytbb-robust - {'pm0': 0.4660098522167488, 'pm10': 0.29014778325123153, 'merge_op': 'max'}\n",
      "************************************\n"
     ]
    }
   ],
   "source": [
    "for model in args.models:\n",
    "    for eval_setting in args.eval_settings:\n",
    "\n",
    "        # download dataset (if necessary)\n",
    "        registry.get_eval_setting(eval_setting).get_dataset_root()\n",
    "\n",
    "        dt = datetime.datetime.fromtimestamp(time.time())\n",
    "        logdir = join(args.logdir, dt.strftime('%Y-%m-%d_%H:%M:%S'))\n",
    "\n",
    "        cmd_params = f'--model={model} --eval-setting={eval_setting} {\"--db\" if args.db else \"\"} --logdir={logdir}'\n",
    "        cmd = f'CUDA_VISIBLE_DEVICES={\",\".join(map(str, args.gpus))} {sys.executable} src/inference.py {cmd_params}'\n",
    "        \n",
    "        print(f'Logging to {logdir}')\n",
    "        if not os.path.exists(logdir):\n",
    "            os.makedirs(logdir)\n",
    "        print(cmd)\n",
    "        !{cmd}\n",
    "        # subprocess.run(f'echo {cmd} > {logdir}/task.cmd', shell=True)\n",
    "        # subprocess.run(cmd, shell=True)"
   ]
  },
  {
   "cell_type": "code",
   "execution_count": null,
   "metadata": {},
   "outputs": [],
   "source": []
  },
  {
   "cell_type": "code",
   "execution_count": null,
   "metadata": {},
   "outputs": [],
   "source": []
  },
  {
   "cell_type": "code",
   "execution_count": null,
   "metadata": {},
   "outputs": [],
   "source": []
  }
 ],
 "metadata": {
  "kernelspec": {
   "display_name": "Python 3",
   "language": "python",
   "name": "python3"
  },
  "language_info": {
   "codemirror_mode": {
    "name": "ipython",
    "version": 3
   },
   "file_extension": ".py",
   "mimetype": "text/x-python",
   "name": "python",
   "nbconvert_exporter": "python",
   "pygments_lexer": "ipython3",
   "version": "3.8.5"
  }
 },
 "nbformat": 4,
 "nbformat_minor": 4
}

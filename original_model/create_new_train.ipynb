{
 "cells": [
  {
   "cell_type": "code",
   "execution_count": 2,
   "metadata": {},
   "outputs": [],
   "source": [
    "import os\n",
    "import shutil"
   ]
  },
  {
   "cell_type": "code",
   "execution_count": null,
   "metadata": {},
   "outputs": [],
   "source": []
  },
  {
   "cell_type": "code",
   "execution_count": null,
   "metadata": {},
   "outputs": [],
   "source": [
    "# root_src_dir = '/data/imagenet/ILSVRC/Data/CLS-LOC/train'   #Path/Location of the source directory\n",
    "root_src_dir = '/home/jtang/robustness/imagenet-r/DeepAugment/EDSR'   #Path/Location of the source directory\n",
    "root_dst_dir = '~/Documents/data'  #Path to the destination folder\n",
    "\n",
    "for src_dir, dirs, files in os.walk(root_src_dir):\n",
    "    dst_dir = src_dir.replace(root_src_dir, root_dst_dir, 1)\n",
    "    if not os.path.exists(dst_dir):\n",
    "        os.makedirs(dst_dir)\n",
    "    for i in range(len(files)):\n",
    "        src_file = os.path.join(src_dir, files[i])\n",
    "        dst_file = os.path.join(dst_dir, files[i])\n",
    "        if (i % 10 != 0):\n",
    "            continue\n",
    "        print(files[i], i)\n",
    "        if os.path.exists(dst_file):\n",
    "            os.remove(dst_file)\n",
    "        shutil.copy(src_file, dst_dir)"
   ]
  },
  {
   "cell_type": "code",
   "execution_count": null,
   "metadata": {},
   "outputs": [],
   "source": []
  }
 ],
 "metadata": {
  "kernelspec": {
   "display_name": "Python 3",
   "language": "python",
   "name": "python3"
  },
  "language_info": {
   "codemirror_mode": {
    "name": "ipython",
    "version": 3
   },
   "file_extension": ".py",
   "mimetype": "text/x-python",
   "name": "python",
   "nbconvert_exporter": "python",
   "pygments_lexer": "ipython3",
   "version": "3.7.10"
  }
 },
 "nbformat": 4,
 "nbformat_minor": 4
}
